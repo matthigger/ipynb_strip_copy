{
 "cells": [
  {
   "cell_type": "code",
   "execution_count": null,
   "id": "1d614143",
   "metadata": {},
   "outputs": [],
   "source": [
    "# this code cell kept (keep-this)"
   ]
  },
  {
   "cell_type": "markdown",
   "id": "672c9525",
   "metadata": {},
   "source": [
    "# this markdown cell kept (keep-this)"
   ]
  },
  {
   "cell_type": "code",
   "execution_count": null,
   "id": "62c88c2d",
   "metadata": {},
   "outputs": [],
   "source": []
  },
  {
   "cell_type": "markdown",
   "id": "912fdc70",
   "metadata": {},
   "source": []
  }
 ],
 "metadata": {
  "kernelspec": {
   "display_name": "Python 3 (ipykernel)",
   "language": "python",
   "name": "python3"
  },
  "language_info": {
   "codemirror_mode": {
    "name": "ipython",
    "version": 3
   },
   "file_extension": ".py",
   "mimetype": "text/x-python",
   "name": "python",
   "nbconvert_exporter": "python",
   "pygments_lexer": "ipython3",
   "version": "3.10.4"
  }
 },
 "nbformat": 4,
 "nbformat_minor": 5
}
