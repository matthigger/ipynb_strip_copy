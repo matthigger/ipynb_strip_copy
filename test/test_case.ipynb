{
 "cells": [
  {
   "cell_type": "code",
   "execution_count": 1,
   "id": "6bef6e62",
   "metadata": {},
   "outputs": [],
   "source": [
    "#! snip-start: 0\n",
    "# this will be removed in case 0\n",
    "#! snip-end: 0\n",
    "\n",
    "# this should stick around\n",
    "\n",
    "#! snip-start: 0\n",
    "# this should be removed in case 0 too\n",
    "#! snip-end: 0"
   ]
  },
  {
   "cell_type": "markdown",
   "id": "094d0956",
   "metadata": {},
   "source": [
    "#! snip-start: 0\n",
    "# this will be removed in case 0, but not case 1\n",
    "#! snip-end: 0\n",
    "\n",
    "# this should stick around\n",
    "\n",
    "#! snip-start: 0, 1\n",
    "# this should be removed in case 0 too\n",
    "#! snip-end: 0, 1"
   ]
  },
  {
   "cell_type": "code",
   "execution_count": 2,
   "id": "81f51e71",
   "metadata": {},
   "outputs": [],
   "source": [
    "#! rm: 0\n",
    "# this whole cell should be deleted (not present in output) in case 0"
   ]
  },
  {
   "cell_type": "markdown",
   "id": "98f5066a",
   "metadata": {},
   "source": [
    "#! rm: 0\n",
    "# this whole cell should be deleted (not present in output) in case 0"
   ]
  },
  {
   "cell_type": "markdown",
   "id": "e33381dd",
   "metadata": {},
   "source": [
    "# This markdown cell should be unaffected"
   ]
  },
  {
   "cell_type": "code",
   "execution_count": 3,
   "id": "6b60c863",
   "metadata": {},
   "outputs": [],
   "source": [
    "# This code cell should be unaffected"
   ]
  },
  {
   "cell_type": "code",
   "execution_count": 5,
   "id": "00c9013f",
   "metadata": {},
   "outputs": [],
   "source": [
    "#! clear: 0\n",
    "# this cell will be cleared in case 0"
   ]
  },
  {
   "cell_type": "markdown",
   "id": "75814791",
   "metadata": {},
   "source": [
    "#! clear: 0\n",
    "# this cell will be cleared in case 0"
   ]
  }
 ],
 "metadata": {
  "kernelspec": {
   "display_name": "Python 3 (ipykernel)",
   "language": "python",
   "name": "python3"
  },
  "language_info": {
   "codemirror_mode": {
    "name": "ipython",
    "version": 3
   },
   "file_extension": ".py",
   "mimetype": "text/x-python",
   "name": "python",
   "nbconvert_exporter": "python",
   "pygments_lexer": "ipython3",
   "version": "3.10.4"
  }
 },
 "nbformat": 4,
 "nbformat_minor": 5
}
