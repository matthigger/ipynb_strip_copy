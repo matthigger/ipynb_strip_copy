{
 "cells": [
  {
   "cell_type": "code",
   "execution_count": null,
   "id": "65844052",
   "metadata": {},
   "outputs": [],
   "source": [
    "# this code cell kept (keep-this)"
   ]
  },
  {
   "cell_type": "markdown",
   "id": "c19fffbc",
   "metadata": {},
   "source": [
    "# this markdown cell kept (keep-this)"
   ]
  },
  {
   "cell_type": "code",
   "execution_count": null,
   "id": "5c102489",
   "metadata": {},
   "outputs": [],
   "source": [
    "# CLEARME (keep-this) (code)"
   ]
  },
  {
   "cell_type": "markdown",
   "id": "faee4b4c",
   "metadata": {},
   "source": [
    "# CLEARME (keep-this) (markdown)"
   ]
  },
  {
   "cell_type": "code",
   "execution_count": null,
   "id": "85917923",
   "metadata": {},
   "outputs": [],
   "source": [
    "# DELETEME (keep-this) (code)"
   ]
  },
  {
   "cell_type": "markdown",
   "id": "f1a82cdf",
   "metadata": {},
   "source": [
    "# DELETEME (keep-this) (markdown)"
   ]
  },
  {
   "cell_type": "code",
   "execution_count": null,
   "id": "110f3683",
   "metadata": {},
   "outputs": [],
   "source": [
    "# because this doesn't have the keeep-this (spelled properly) this cell will be deleted"
   ]
  },
  {
   "cell_type": "markdown",
   "id": "4439ea4a",
   "metadata": {},
   "source": [
    "# because this doesn't have the keeep-this (spelled properly) this cell will be deleted"
   ]
  }
 ],
 "metadata": {
  "kernelspec": {
   "display_name": "Python 3 (ipykernel)",
   "language": "python",
   "name": "python3"
  },
  "language_info": {
   "codemirror_mode": {
    "name": "ipython",
    "version": 3
   },
   "file_extension": ".py",
   "mimetype": "text/x-python",
   "name": "python",
   "nbconvert_exporter": "python",
   "pygments_lexer": "ipython3",
   "version": "3.10.4"
  }
 },
 "nbformat": 4,
 "nbformat_minor": 5
}
