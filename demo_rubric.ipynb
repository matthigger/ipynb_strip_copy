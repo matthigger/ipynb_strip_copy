{
 "cells": [
  {
   "cell_type": "markdown",
   "id": "33190173",
   "metadata": {},
   "source": [
    "The example below shows a skeleton of an instructors \"rubric\".  By running the command immediately below, one is able to generate the `demo_student.ipynb` and `demo_solution.ipynb` copies of the assignment."
   ]
  },
  {
   "cell_type": "code",
   "execution_count": null,
   "id": "2cb1a48f",
   "metadata": {},
   "outputs": [],
   "source": [
    "!pip install ipynb_strip_copy\n",
    "!python -m ipynb_strip_copy demo_rubric.ipynb"
   ]
  },
  {
   "cell_type": "markdown",
   "id": "392d0c7f",
   "metadata": {},
   "source": [
    "## Some example problem\n",
    "\n",
    "Build the function as defined below."
   ]
  },
  {
   "cell_type": "code",
   "execution_count": null,
   "id": "97bb7bca",
   "metadata": {},
   "outputs": [],
   "source": [
    "def some_fnc(a, b, c)\n",
    "    \"\"\" this function tests students understanding of CS\n",
    "\n",
    "    Args:\n",
    "        a (list): some poorly defined input\n",
    "        b (dict): some poorly defined input\n",
    "        c (float): some poorly defined input\n",
    "    \"\"\"\n",
    "\n",
    "    #! snip-start: student\n",
    "    # implementation of solution here\n",
    "    #! snip-end: student"
   ]
  },
  {
   "cell_type": "markdown",
   "id": "842823bf",
   "metadata": {},
   "source": [
    "#! rm: solution, student\n",
    "\n",
    "rubric:\n",
    "- 10000 pt: documentation\n",
    "- 1 pt: correctness    "
   ]
  }
 ],
 "metadata": {
  "kernelspec": {
   "display_name": "Python 3 (ipykernel)",
   "language": "python",
   "name": "python3"
  },
  "language_info": {
   "codemirror_mode": {
    "name": "ipython",
    "version": 3
   },
   "file_extension": ".py",
   "mimetype": "text/x-python",
   "name": "python",
   "nbconvert_exporter": "python",
   "pygments_lexer": "ipython3",
   "version": "3.10.4"
  }
 },
 "nbformat": 4,
 "nbformat_minor": 5
}
